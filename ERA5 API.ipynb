{
 "cells": [
  {
   "cell_type": "code",
   "execution_count": 1,
   "id": "49bc332e",
   "metadata": {},
   "outputs": [],
   "source": [
    "import cdsapi"
   ]
  },
  {
   "cell_type": "code",
   "execution_count": 2,
   "id": "2e79ca44",
   "metadata": {},
   "outputs": [],
   "source": [
    "c=cdsapi.Client()"
   ]
  },
  {
   "cell_type": "markdown",
   "id": "0d5bc9e2",
   "metadata": {},
   "source": [
    "Example for US_PFA validation data (2012-2014)"
   ]
  },
  {
   "cell_type": "code",
   "execution_count": 3,
   "id": "6877e5de",
   "metadata": {},
   "outputs": [],
   "source": [
    "### US-PFa\n",
    "\n",
    "latitude = 45.9459\n",
    "longitude = -90.2723\n",
    "bounding_box = [\n",
    "    latitude + 0.01, longitude - 0.01,  # North, West\n",
    "    latitude - 0.01, longitude + 0.01   # South, East\n",
    "]"
   ]
  },
  {
   "cell_type": "markdown",
   "id": "e444d564",
   "metadata": {},
   "source": [
    "This can be edited to add more months or more years. I found the download process to be very time consuming which is why I used manual importing, but have provided the option here. "
   ]
  },
  {
   "cell_type": "code",
   "execution_count": null,
   "id": "dd7e8902",
   "metadata": {},
   "outputs": [],
   "source": [
    "c.retrieve(\n",
    "    'reanalysis-era5-land',\n",
    "    {\n",
    "        'variable': [\n",
    "            '10 metre U wind component', '2 metre dewpoint temperature', '2 metre temperature',\n",
    "            'Evaporation from vegetation transpiration',\n",
    "            'Forecast albedo', 'Leaf area index, high vegetation', 'Leaf area index, low vegetation',\n",
    "            'Soil temperature level 3', 'Evaporation', 'Surface pressure',\n",
    "            'Volumetric soil water layer 3', 'Volumetric soil water layer 4'\n",
    "        ],\n",
    "        'year': ['2012'], # 2012\n",
    "        'month': ['01'], \n",
    "        'day': [\n",
    "            '11', '12', '13', '14', '15', \n",
    "            '16', '18', '21', '26', '28'\n",
    "        ], # Required dates \n",
    "        'time': [\n",
    "            '00:00','01:00','02:00','03:00','04:00','05:00',\n",
    "            '06:00','07:00','08:00','09:00','10:00','11:00',\n",
    "            '12:00','13:00','14:00','15:00','16:00','17:00',\n",
    "            '18:00','19:00','20:00','21:00','22:00','23:00'\n",
    "        ], # Hourly data at all times \n",
    "        'area': bounding_box,  # Bounding box defined above\n",
    "        'format': 'grib'  # The format of the output file, using grib\n",
    "    },\n",
    "    'US_PFA_Jan_12.grib'  # The name of the output file\n",
    ")"
   ]
  },
  {
   "cell_type": "markdown",
   "id": "68caa54c",
   "metadata": {},
   "source": [
    "Example with more years and months"
   ]
  },
  {
   "cell_type": "markdown",
   "id": "409c106a",
   "metadata": {},
   "source": [
    "If using this, file names within the importing fucntion in 'ERA5_Land' notebook will need altering. The fucntion currently expects files named under the convention above, also mentioned in the README.md."
   ]
  },
  {
   "cell_type": "code",
   "execution_count": null,
   "id": "7c958fb7",
   "metadata": {},
   "outputs": [],
   "source": [
    "c.retrieve(\n",
    "    'reanalysis-era5-land',\n",
    "    {\n",
    "        'variable': [\n",
    "            '10 metre U wind component', '2 metre dewpoint temperature', '2 metre temperature',\n",
    "            'Evaporation from vegetation transpiration',\n",
    "            'Forecast albedo', 'Leaf area index, high vegetation', 'Leaf area index, low vegetation',\n",
    "            'Soil temperature level 3', 'Evaporation', 'Surface pressure',\n",
    "            'Volumetric soil water layer 3', 'Volumetric soil water layer 4'\n",
    "        ],\n",
    "        'year': ['2012','2013','2014'], # 2012 - 2014\n",
    "        'month': ['01', '02', '03', '04', '05', '06', '07', '08', '09', '10', '11', '12'], # All months\n",
    "        'day': [\n",
    "            '11', '12', '13', '14', '15', \n",
    "            '16', '18', '21', '26', '28'\n",
    "        ], # Required dates \n",
    "        'time': [\n",
    "            '00:00','01:00','02:00','03:00','04:00','05:00',\n",
    "            '06:00','07:00','08:00','09:00','10:00','11:00',\n",
    "            '12:00','13:00','14:00','15:00','16:00','17:00',\n",
    "            '18:00','19:00','20:00','21:00','22:00','23:00'\n",
    "        ], # Hourly data at all times \n",
    "        'area': bounding_box,  # Bounding box defined above\n",
    "        'format': 'grib'  # The format of the output file, using grib\n",
    "    },\n",
    "    'US_PFA.grib'  # The name of the output file\n",
    ")"
   ]
  }
 ],
 "metadata": {
  "kernelspec": {
   "display_name": "Python 3 (ipykernel)",
   "language": "python",
   "name": "python3"
  },
  "language_info": {
   "codemirror_mode": {
    "name": "ipython",
    "version": 3
   },
   "file_extension": ".py",
   "mimetype": "text/x-python",
   "name": "python",
   "nbconvert_exporter": "python",
   "pygments_lexer": "ipython3",
   "version": "3.11.5"
  }
 },
 "nbformat": 4,
 "nbformat_minor": 5
}
